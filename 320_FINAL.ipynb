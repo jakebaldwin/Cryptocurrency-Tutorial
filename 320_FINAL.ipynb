{
  "nbformat": 4,
  "nbformat_minor": 0,
  "metadata": {
    "colab": {
      "name": "320 FINAL.ipynb",
      "provenance": [],
      "collapsed_sections": []
    },
    "kernelspec": {
      "name": "python3",
      "display_name": "Python 3"
    },
    "language_info": {
      "name": "python"
    }
  },
  "cells": [
    {
      "cell_type": "markdown",
      "metadata": {
        "id": "kvc89Lj4jSv8"
      },
      "source": [
        "# Cryptocurrency Data Science Tutorial"
      ]
    },
    {
      "cell_type": "markdown",
      "metadata": {
        "id": "U8ub8eIWQplk"
      },
      "source": [
        "## Data Collection and Curation\n",
        "  When beginning a data analysis on anything, the first step is to find some data to work with. Often, data is not available for us to use in perfect form. This means that we must either find a way to get the data from the internet or clean the data to make it useable for ourselves. In our case, there is a database recording valueable information on crypto currencies online. We can simply download this database and use the information for ourselves. The database we used is located at: https://github.com/oknott14/data_host. The data is currently stored in a repository with each coin containing a seperate .csv file. Since seperated data is hard to work with, we must first compile these files into one large table. We will be using sqlite3 and the pandas python library for this project, but any database library will work.\n",
        "\n",
        "  First, lets import all of our necessary libraries, and prepare the pytrends library for scraping Google Trends data"
      ]
    },
    {
      "cell_type": "code",
      "metadata": {
        "id": "bfl14o0qfY4V"
      },
      "source": [
        "import pandas as pd\n",
        "import sqlite3\n",
        "from os import listdir\n",
        "import requests as rq\n",
        "import numpy as np\n",
        "from sklearn.linear_model import LinearRegression\n",
        "from sklearn.preprocessing import PolynomialFeatures as pf\n",
        "from sklearn.pipeline import Pipeline\n",
        "import datetime as dt\n",
        "try:\n",
        "  from pytrends.request import TrendReq\n",
        "except:\n",
        "  !pip install pytrends\n",
        "  from pytrends.request import TrendReq\n",
        "pytrends = TrendReq(hl='en-us', tz=360)"
      ],
      "execution_count": 1,
      "outputs": []
    },
    {
      "cell_type": "markdown",
      "metadata": {
        "id": "yPpwinZGjBCg"
      },
      "source": [
        "Next, lets create our master table conntaining all of our crypto-currencies. For later use, we will format the date as a python datetime object and add a date key column."
      ]
    },
    {
      "cell_type": "code",
      "metadata": {
        "id": "pcK2aYJBgX9u",
        "colab": {
          "base_uri": "https://localhost:8080/",
          "height": 204
        },
        "outputId": "7d5084a9-98cc-4fc1-b5ee-d0a286280c86"
      },
      "source": [
        "#Clone directory and read files\n",
        "path = '/content/data_host'\n",
        "try:\n",
        "  files = listdir(path)\n",
        "except:\n",
        "  !git clone https://github.com/oknott14/data_host \n",
        "  files = listdir(path)\n",
        "files.remove('.git')\n",
        "files.sort() \n",
        "sqlName = files.pop() #get sql db file name\n",
        "\n",
        "#Connect to sql database\n",
        "conn = sqlite3.connect(f\"{path}/{sqlName}\")\n",
        "\n",
        "#Read Tables into sql\n",
        "for file in files:\n",
        "  tbl = pd.read_csv(f\"{path}/{file}\")\n",
        "  tbl['DateKey'] = tbl['Date'].apply(lambda c: int(c[0:10].replace('-','')))\n",
        "  cols = list(tbl.columns)\n",
        "  cols.remove('SNo')\n",
        "  tbl[cols].to_sql(\"Master\",conn,if_exists='append',index=False)\n",
        "\n",
        "frame = pd.read_sql(\"SELECT * FROM Master\",conn)\n",
        "frame.head()"
      ],
      "execution_count": 2,
      "outputs": [
        {
          "output_type": "execute_result",
          "data": {
            "text/html": [
              "<div>\n",
              "<style scoped>\n",
              "    .dataframe tbody tr th:only-of-type {\n",
              "        vertical-align: middle;\n",
              "    }\n",
              "\n",
              "    .dataframe tbody tr th {\n",
              "        vertical-align: top;\n",
              "    }\n",
              "\n",
              "    .dataframe thead th {\n",
              "        text-align: right;\n",
              "    }\n",
              "</style>\n",
              "<table border=\"1\" class=\"dataframe\">\n",
              "  <thead>\n",
              "    <tr style=\"text-align: right;\">\n",
              "      <th></th>\n",
              "      <th>Name</th>\n",
              "      <th>Symbol</th>\n",
              "      <th>Date</th>\n",
              "      <th>High</th>\n",
              "      <th>Low</th>\n",
              "      <th>Open</th>\n",
              "      <th>Close</th>\n",
              "      <th>Volume</th>\n",
              "      <th>Marketcap</th>\n",
              "      <th>DateKey</th>\n",
              "      <th>Change</th>\n",
              "    </tr>\n",
              "  </thead>\n",
              "  <tbody>\n",
              "    <tr>\n",
              "      <th>0</th>\n",
              "      <td>Aave</td>\n",
              "      <td>AAVE</td>\n",
              "      <td>2020-10-05 23:59:59</td>\n",
              "      <td>55.112358</td>\n",
              "      <td>49.787900</td>\n",
              "      <td>52.675035</td>\n",
              "      <td>53.219243</td>\n",
              "      <td>0.000000e+00</td>\n",
              "      <td>8.912813e+07</td>\n",
              "      <td>20201005</td>\n",
              "      <td>None</td>\n",
              "    </tr>\n",
              "    <tr>\n",
              "      <th>1</th>\n",
              "      <td>Aave</td>\n",
              "      <td>AAVE</td>\n",
              "      <td>2020-10-06 23:59:59</td>\n",
              "      <td>53.402270</td>\n",
              "      <td>40.734578</td>\n",
              "      <td>53.291969</td>\n",
              "      <td>42.401599</td>\n",
              "      <td>5.830915e+05</td>\n",
              "      <td>7.101144e+07</td>\n",
              "      <td>20201006</td>\n",
              "      <td>None</td>\n",
              "    </tr>\n",
              "    <tr>\n",
              "      <th>2</th>\n",
              "      <td>Aave</td>\n",
              "      <td>AAVE</td>\n",
              "      <td>2020-10-07 23:59:59</td>\n",
              "      <td>42.408314</td>\n",
              "      <td>35.970690</td>\n",
              "      <td>42.399947</td>\n",
              "      <td>40.083976</td>\n",
              "      <td>6.828342e+05</td>\n",
              "      <td>6.713004e+07</td>\n",
              "      <td>20201007</td>\n",
              "      <td>None</td>\n",
              "    </tr>\n",
              "    <tr>\n",
              "      <th>3</th>\n",
              "      <td>Aave</td>\n",
              "      <td>AAVE</td>\n",
              "      <td>2020-10-08 23:59:59</td>\n",
              "      <td>44.902511</td>\n",
              "      <td>36.696057</td>\n",
              "      <td>39.885262</td>\n",
              "      <td>43.764463</td>\n",
              "      <td>1.658817e+06</td>\n",
              "      <td>2.202651e+08</td>\n",
              "      <td>20201008</td>\n",
              "      <td>None</td>\n",
              "    </tr>\n",
              "    <tr>\n",
              "      <th>4</th>\n",
              "      <td>Aave</td>\n",
              "      <td>AAVE</td>\n",
              "      <td>2020-10-09 23:59:59</td>\n",
              "      <td>47.569533</td>\n",
              "      <td>43.291776</td>\n",
              "      <td>43.764463</td>\n",
              "      <td>46.817744</td>\n",
              "      <td>8.155377e+05</td>\n",
              "      <td>2.356322e+08</td>\n",
              "      <td>20201009</td>\n",
              "      <td>None</td>\n",
              "    </tr>\n",
              "  </tbody>\n",
              "</table>\n",
              "</div>"
            ],
            "text/plain": [
              "   Name Symbol                 Date  ...     Marketcap   DateKey  Change\n",
              "0  Aave   AAVE  2020-10-05 23:59:59  ...  8.912813e+07  20201005    None\n",
              "1  Aave   AAVE  2020-10-06 23:59:59  ...  7.101144e+07  20201006    None\n",
              "2  Aave   AAVE  2020-10-07 23:59:59  ...  6.713004e+07  20201007    None\n",
              "3  Aave   AAVE  2020-10-08 23:59:59  ...  2.202651e+08  20201008    None\n",
              "4  Aave   AAVE  2020-10-09 23:59:59  ...  2.356322e+08  20201009    None\n",
              "\n",
              "[5 rows x 11 columns]"
            ]
          },
          "metadata": {
            "tags": []
          },
          "execution_count": 2
        }
      ]
    },
    {
      "cell_type": "markdown",
      "metadata": {
        "id": "oS77hYT_wj0C"
      },
      "source": [
        "Now, lets scrape our data using the unique names from our SQL Database, and query Google Trends with these names. By grabbing the unique names and merging the dataframes we can create one dataframe almost ready to merge with our SQL dataframe. We will modify the data that pytrends gives us by creating a startDate and endDate column along with start and end date key columns. The two key columns will make it easier to locate dates within the week of search results."
      ]
    },
    {
      "cell_type": "code",
      "metadata": {
        "colab": {
          "base_uri": "https://localhost:8080/",
          "height": 326
        },
        "id": "OfL96CmokcI9",
        "outputId": "bb88f7e7-1dc7-4cda-ed99-3415b990d627"
      },
      "source": [
        "query_names = frame['Name'].unique() # Shows us the unique Cryptocurrencies we have in the original dataset\n",
        "\n",
        "trends_df = None\n",
        "\n",
        "for i in range(0, len(query_names), 5):\n",
        "  pytrends.build_payload(query_names[i: i + 5]) # Queries google trends a subsection of query_names, to later merge\n",
        "  try:\n",
        "    trends_df = trends_df.merge(pytrends.interest_over_time().drop(columns='isPartial'), left_index=True, right_index=True)\n",
        "  except:\n",
        "    trends_df = pytrends.interest_over_time().drop(columns=['isPartial'])\n",
        "    pass\n",
        "\n",
        "#Create start and end date columns with matching key columns\n",
        "trends_df['endDate'] = trends_df.index\n",
        "idt = trends_df.iloc[0,23].date()\n",
        "trends_df['startDate'] = [pd.Timestamp(idt.year, idt.month, idt.day - 7)] + trends_df['endDate'].tolist()[:-1]\n",
        "for val in ['end','start']:\n",
        "  trends_df[f'{val}DateKey'] = trends_df[f'{val}Date'].apply(lambda c: int(c.date().strftime('%Y%m%d')))\n",
        "trends_df.index = range(0,len(trends_df))\n",
        "trends_df.to_sql(\"Trends\",conn)\n",
        "trends_df.head()"
      ],
      "execution_count": 4,
      "outputs": [
        {
          "output_type": "execute_result",
          "data": {
            "text/html": [
              "<div>\n",
              "<style scoped>\n",
              "    .dataframe tbody tr th:only-of-type {\n",
              "        vertical-align: middle;\n",
              "    }\n",
              "\n",
              "    .dataframe tbody tr th {\n",
              "        vertical-align: top;\n",
              "    }\n",
              "\n",
              "    .dataframe thead th {\n",
              "        text-align: right;\n",
              "    }\n",
              "</style>\n",
              "<table border=\"1\" class=\"dataframe\">\n",
              "  <thead>\n",
              "    <tr style=\"text-align: right;\">\n",
              "      <th></th>\n",
              "      <th>Aave</th>\n",
              "      <th>Binance Coin</th>\n",
              "      <th>Bitcoin</th>\n",
              "      <th>Cardano</th>\n",
              "      <th>Chainlink</th>\n",
              "      <th>Cosmos</th>\n",
              "      <th>Crypto.com Coin</th>\n",
              "      <th>Dogecoin</th>\n",
              "      <th>EOS</th>\n",
              "      <th>Ethereum</th>\n",
              "      <th>IOTA</th>\n",
              "      <th>Litecoin</th>\n",
              "      <th>Monero</th>\n",
              "      <th>NEM</th>\n",
              "      <th>Polkadot</th>\n",
              "      <th>Solana</th>\n",
              "      <th>Stellar</th>\n",
              "      <th>Tether</th>\n",
              "      <th>TRON</th>\n",
              "      <th>USD Coin</th>\n",
              "      <th>Uniswap</th>\n",
              "      <th>Wrapped Bitcoin</th>\n",
              "      <th>XRP</th>\n",
              "      <th>endDate</th>\n",
              "      <th>startDate</th>\n",
              "      <th>endDateKey</th>\n",
              "      <th>startDateKey</th>\n",
              "    </tr>\n",
              "  </thead>\n",
              "  <tbody>\n",
              "    <tr>\n",
              "      <th>0</th>\n",
              "      <td>0</td>\n",
              "      <td>0</td>\n",
              "      <td>2</td>\n",
              "      <td>0</td>\n",
              "      <td>0</td>\n",
              "      <td>4</td>\n",
              "      <td>0</td>\n",
              "      <td>0</td>\n",
              "      <td>6</td>\n",
              "      <td>1</td>\n",
              "      <td>1</td>\n",
              "      <td>0</td>\n",
              "      <td>0</td>\n",
              "      <td>19</td>\n",
              "      <td>1</td>\n",
              "      <td>4</td>\n",
              "      <td>6</td>\n",
              "      <td>3</td>\n",
              "      <td>40</td>\n",
              "      <td>0</td>\n",
              "      <td>0</td>\n",
              "      <td>0</td>\n",
              "      <td>0</td>\n",
              "      <td>2016-05-22</td>\n",
              "      <td>2016-05-15</td>\n",
              "      <td>20160522</td>\n",
              "      <td>20160515</td>\n",
              "    </tr>\n",
              "    <tr>\n",
              "      <th>1</th>\n",
              "      <td>0</td>\n",
              "      <td>0</td>\n",
              "      <td>3</td>\n",
              "      <td>0</td>\n",
              "      <td>0</td>\n",
              "      <td>3</td>\n",
              "      <td>0</td>\n",
              "      <td>0</td>\n",
              "      <td>6</td>\n",
              "      <td>1</td>\n",
              "      <td>1</td>\n",
              "      <td>0</td>\n",
              "      <td>0</td>\n",
              "      <td>20</td>\n",
              "      <td>0</td>\n",
              "      <td>4</td>\n",
              "      <td>6</td>\n",
              "      <td>3</td>\n",
              "      <td>39</td>\n",
              "      <td>0</td>\n",
              "      <td>0</td>\n",
              "      <td>0</td>\n",
              "      <td>0</td>\n",
              "      <td>2016-05-29</td>\n",
              "      <td>2016-05-22</td>\n",
              "      <td>20160529</td>\n",
              "      <td>20160522</td>\n",
              "    </tr>\n",
              "    <tr>\n",
              "      <th>2</th>\n",
              "      <td>0</td>\n",
              "      <td>0</td>\n",
              "      <td>3</td>\n",
              "      <td>0</td>\n",
              "      <td>0</td>\n",
              "      <td>3</td>\n",
              "      <td>0</td>\n",
              "      <td>0</td>\n",
              "      <td>6</td>\n",
              "      <td>1</td>\n",
              "      <td>1</td>\n",
              "      <td>0</td>\n",
              "      <td>0</td>\n",
              "      <td>21</td>\n",
              "      <td>0</td>\n",
              "      <td>4</td>\n",
              "      <td>7</td>\n",
              "      <td>3</td>\n",
              "      <td>39</td>\n",
              "      <td>0</td>\n",
              "      <td>0</td>\n",
              "      <td>0</td>\n",
              "      <td>0</td>\n",
              "      <td>2016-06-05</td>\n",
              "      <td>2016-05-29</td>\n",
              "      <td>20160605</td>\n",
              "      <td>20160529</td>\n",
              "    </tr>\n",
              "    <tr>\n",
              "      <th>3</th>\n",
              "      <td>0</td>\n",
              "      <td>0</td>\n",
              "      <td>4</td>\n",
              "      <td>0</td>\n",
              "      <td>0</td>\n",
              "      <td>3</td>\n",
              "      <td>0</td>\n",
              "      <td>0</td>\n",
              "      <td>6</td>\n",
              "      <td>2</td>\n",
              "      <td>1</td>\n",
              "      <td>1</td>\n",
              "      <td>0</td>\n",
              "      <td>21</td>\n",
              "      <td>0</td>\n",
              "      <td>4</td>\n",
              "      <td>6</td>\n",
              "      <td>3</td>\n",
              "      <td>35</td>\n",
              "      <td>0</td>\n",
              "      <td>0</td>\n",
              "      <td>0</td>\n",
              "      <td>0</td>\n",
              "      <td>2016-06-12</td>\n",
              "      <td>2016-06-05</td>\n",
              "      <td>20160612</td>\n",
              "      <td>20160605</td>\n",
              "    </tr>\n",
              "    <tr>\n",
              "      <th>4</th>\n",
              "      <td>0</td>\n",
              "      <td>0</td>\n",
              "      <td>4</td>\n",
              "      <td>0</td>\n",
              "      <td>0</td>\n",
              "      <td>3</td>\n",
              "      <td>0</td>\n",
              "      <td>0</td>\n",
              "      <td>7</td>\n",
              "      <td>1</td>\n",
              "      <td>1</td>\n",
              "      <td>0</td>\n",
              "      <td>0</td>\n",
              "      <td>23</td>\n",
              "      <td>0</td>\n",
              "      <td>4</td>\n",
              "      <td>6</td>\n",
              "      <td>3</td>\n",
              "      <td>38</td>\n",
              "      <td>0</td>\n",
              "      <td>0</td>\n",
              "      <td>0</td>\n",
              "      <td>0</td>\n",
              "      <td>2016-06-19</td>\n",
              "      <td>2016-06-12</td>\n",
              "      <td>20160619</td>\n",
              "      <td>20160612</td>\n",
              "    </tr>\n",
              "  </tbody>\n",
              "</table>\n",
              "</div>"
            ],
            "text/plain": [
              "   Aave  Binance Coin  Bitcoin  ...  startDate  endDateKey  startDateKey\n",
              "0     0             0        2  ... 2016-05-15    20160522      20160515\n",
              "1     0             0        3  ... 2016-05-22    20160529      20160522\n",
              "2     0             0        3  ... 2016-05-29    20160605      20160529\n",
              "3     0             0        4  ... 2016-06-05    20160612      20160605\n",
              "4     0             0        4  ... 2016-06-12    20160619      20160612\n",
              "\n",
              "[5 rows x 27 columns]"
            ]
          },
          "metadata": {
            "tags": []
          },
          "execution_count": 4
        }
      ]
    },
    {
      "cell_type": "markdown",
      "metadata": {
        "id": "a_muS0IegBLY"
      },
      "source": [
        "## Data Management and Representation\n",
        "The day to day trends can be hard to analyze with so many values. During our exploratory data analysis, we will want to quickly locate large fluctiations in the price of coins. To target these, we will create a monthly and yearly change table.\n",
        "\n",
        "First, create a pandas data frame for our master table. We will use this data frame to create our two new tables since pandas makes it easy to modify and add data. To begin, we will create two new columns, Month and Year. These columns will replace the Date column in the additional tables. We will also remove the time portion of the date column.\n",
        "\n",
        "In some cases, seperating the month and year from a combined date could be considered tidying our data. Data is considered messy when there is more than one value stored in a single column, more than one observation in each row, or more than one set of observations in a table. With tidy data, every row should correspond to a distince observation for each column. Our data in master and in the tables we are creating now will be tidy since every row has a unique set of values for the behavior of a given coin on a given date. If, for example, high and low were stored in one column, say high/low with the value 'high/low', this data would be messy. To tidy this data we would need to split high/low into the two columns by the '/' in the string. Then we can perform computations on the two values without extra steps. Another example would be having the data for every coin in one row corresponding to a date. For more information on tidying data, check out this link: https://towardsdatascience.com/whats-tidy-data-how-to-organize-messy-datasets-in-python-with-melt-and-pivotable-functions-5d52daa996c9"
      ]
    },
    {
      "cell_type": "code",
      "metadata": {
        "id": "ETCofBfmHLIJ"
      },
      "source": [
        "master = pd.read_sql(\"SELECT * FROM Master\",conn)\n",
        "master['Year'] = master['Date'].apply(lambda c: c[0:4])\n",
        "master['Month'] = master['Date'].apply(lambda c: c[0:7])\n",
        "master['Date'] = master['Date'].apply(lambda c: c[0:10])"
      ],
      "execution_count": 5,
      "outputs": []
    },
    {
      "cell_type": "markdown",
      "metadata": {
        "id": "QqzdyrewHOUz"
      },
      "source": [
        "Now that we have our data ready in pandas, we will use the groupby function to add each unique Year and Month with their respective Name and Symbol values. This will give us a base values that we can merge future columns with."
      ]
    },
    {
      "cell_type": "code",
      "metadata": {
        "colab": {
          "base_uri": "https://localhost:8080/",
          "height": 204
        },
        "id": "QpNKUL09HeEU",
        "outputId": "332cc1fb-a26e-4403-8f2f-549304dbb569"
      },
      "source": [
        "tableVals = ['Year','Month']\n",
        "newTables = [None,None]\n",
        "\n",
        "for idx in range(0,2):\n",
        "  newTables[idx] = master[[tableVals[idx],'Name','Symbol']].groupby([tableVals[idx],'Name','Symbol'], as_index=False).min()\n",
        "  \n",
        "newTables[0].head()"
      ],
      "execution_count": 6,
      "outputs": [
        {
          "output_type": "execute_result",
          "data": {
            "text/html": [
              "<div>\n",
              "<style scoped>\n",
              "    .dataframe tbody tr th:only-of-type {\n",
              "        vertical-align: middle;\n",
              "    }\n",
              "\n",
              "    .dataframe tbody tr th {\n",
              "        vertical-align: top;\n",
              "    }\n",
              "\n",
              "    .dataframe thead th {\n",
              "        text-align: right;\n",
              "    }\n",
              "</style>\n",
              "<table border=\"1\" class=\"dataframe\">\n",
              "  <thead>\n",
              "    <tr style=\"text-align: right;\">\n",
              "      <th></th>\n",
              "      <th>Year</th>\n",
              "      <th>Name</th>\n",
              "      <th>Symbol</th>\n",
              "    </tr>\n",
              "  </thead>\n",
              "  <tbody>\n",
              "    <tr>\n",
              "      <th>0</th>\n",
              "      <td>2013</td>\n",
              "      <td>Bitcoin</td>\n",
              "      <td>BTC</td>\n",
              "    </tr>\n",
              "    <tr>\n",
              "      <th>1</th>\n",
              "      <td>2013</td>\n",
              "      <td>Dogecoin</td>\n",
              "      <td>DOGE</td>\n",
              "    </tr>\n",
              "    <tr>\n",
              "      <th>2</th>\n",
              "      <td>2013</td>\n",
              "      <td>Litecoin</td>\n",
              "      <td>LTC</td>\n",
              "    </tr>\n",
              "    <tr>\n",
              "      <th>3</th>\n",
              "      <td>2013</td>\n",
              "      <td>XRP</td>\n",
              "      <td>XRP</td>\n",
              "    </tr>\n",
              "    <tr>\n",
              "      <th>4</th>\n",
              "      <td>2014</td>\n",
              "      <td>Bitcoin</td>\n",
              "      <td>BTC</td>\n",
              "    </tr>\n",
              "  </tbody>\n",
              "</table>\n",
              "</div>"
            ],
            "text/plain": [
              "   Year      Name Symbol\n",
              "0  2013   Bitcoin    BTC\n",
              "1  2013  Dogecoin   DOGE\n",
              "2  2013  Litecoin    LTC\n",
              "3  2013       XRP    XRP\n",
              "4  2014   Bitcoin    BTC"
            ]
          },
          "metadata": {
            "tags": []
          },
          "execution_count": 6
        }
      ]
    },
    {
      "cell_type": "markdown",
      "metadata": {
        "id": "bH8IUJr7HgEv"
      },
      "source": [
        "Now that we have our base values, lets merge the rest of the columns into our database. For high and low we can use groupby and merge to add the max and min values from each time period. Open and close is a little more complicated. We must use the max and min values for the Date for both month and year, since some coins were created in the middle of year or the month. Finally for Volume and Marketcap we can use the median values to represent the average among each year. Finally, we will also add a start and end column and two matching key columns to the data tables."
      ]
    },
    {
      "cell_type": "code",
      "metadata": {
        "colab": {
          "base_uri": "https://localhost:8080/",
          "height": 204
        },
        "id": "yyYDNOxzHn4e",
        "outputId": "ccdac92c-8d5a-4800-9207-3bc56256fdfb"
      },
      "source": [
        "for idx in range (0,2):\n",
        "  #Add start and end date coluns\n",
        "  newTables[idx]['startDate'] = newTables[idx].merge(master[[tableVals[idx],'Name','Date']].groupby([tableVals[idx],'Name'],as_index=False).min(),'inner')['Date']\n",
        "  newTables[idx]['endDate'] = newTables[idx].merge(master[[tableVals[idx],'Name','Date']].groupby([tableVals[idx],'Name'],as_index=False).max(),'inner')['Date']\n",
        "  #Add start and end date key columns\n",
        "  newTables[idx]['startDateKey'] = newTables[idx]['startDate'].apply(lambda c: int(c.replace('-','')))\n",
        "  newTables[idx]['endDateKey'] = newTables[idx]['endDate'].apply(lambda c: int(c.replace('-','')))\n",
        "  #Add High Column with merge\n",
        "  newTables[idx] = newTables[idx].merge(\n",
        "      master[[tableVals[idx],'Name','High']].groupby([tableVals[idx],'Name'], as_index=False).max(),\n",
        "      'inner')\n",
        "  #Add Low Column with merge\n",
        "  newTables[idx] = newTables[idx].merge(\n",
        "      master[[tableVals[idx],'Name','Low']].groupby([tableVals[idx],'Name'], as_index=False).min(),\n",
        "      'inner')\n",
        "  #Add Open Column with merge\n",
        "  openTbl = master[[tableVals[idx],'Name','Date']].groupby(\n",
        "      [tableVals[idx],'Name'],as_index=False).min().merge(\n",
        "          master[[tableVals[idx],'Name','Open','Date']],'left')\n",
        "  newTables[idx] = newTables[idx].merge(openTbl[[tableVals[idx],'Name','Open']],'inner')\n",
        "  #Add Close Column with merge\n",
        "  closeTbl = master[[tableVals[idx],'Name','Date']].groupby(\n",
        "      [tableVals[idx],'Name'],as_index=False).max().merge(\n",
        "          master[[tableVals[idx],'Name','Close','Date']],'left')\n",
        "  newTables[idx] = newTables[idx].merge(closeTbl[[tableVals[idx],'Name','Close']],'inner')\n",
        "  #Add Average Volume  and Marketcap with merge\n",
        "  for col in ['Volume','Marketcap']:\n",
        "    newTables[idx] = newTables[idx].merge(master[[tableVals[idx],'Name',col]].groupby([tableVals[idx],'Name'],as_index=False).mean(),'inner')\n",
        "    newTables[idx] = newTables[idx].rename(columns={col:f\"Avg{col}\"})\n",
        "\n",
        "newTables[0].head()"
      ],
      "execution_count": 7,
      "outputs": [
        {
          "output_type": "execute_result",
          "data": {
            "text/html": [
              "<div>\n",
              "<style scoped>\n",
              "    .dataframe tbody tr th:only-of-type {\n",
              "        vertical-align: middle;\n",
              "    }\n",
              "\n",
              "    .dataframe tbody tr th {\n",
              "        vertical-align: top;\n",
              "    }\n",
              "\n",
              "    .dataframe thead th {\n",
              "        text-align: right;\n",
              "    }\n",
              "</style>\n",
              "<table border=\"1\" class=\"dataframe\">\n",
              "  <thead>\n",
              "    <tr style=\"text-align: right;\">\n",
              "      <th></th>\n",
              "      <th>Year</th>\n",
              "      <th>Name</th>\n",
              "      <th>Symbol</th>\n",
              "      <th>startDate</th>\n",
              "      <th>endDate</th>\n",
              "      <th>startDateKey</th>\n",
              "      <th>endDateKey</th>\n",
              "      <th>High</th>\n",
              "      <th>Low</th>\n",
              "      <th>Open</th>\n",
              "      <th>Close</th>\n",
              "      <th>AvgVolume</th>\n",
              "      <th>AvgMarketcap</th>\n",
              "    </tr>\n",
              "  </thead>\n",
              "  <tbody>\n",
              "    <tr>\n",
              "      <th>0</th>\n",
              "      <td>2013</td>\n",
              "      <td>Bitcoin</td>\n",
              "      <td>BTC</td>\n",
              "      <td>2013-04-29</td>\n",
              "      <td>2013-12-31</td>\n",
              "      <td>20130429</td>\n",
              "      <td>20131231</td>\n",
              "      <td>1156.140015</td>\n",
              "      <td>65.526001</td>\n",
              "      <td>134.444</td>\n",
              "      <td>754.01001</td>\n",
              "      <td>566740.080972</td>\n",
              "      <td>3.066581e+09</td>\n",
              "    </tr>\n",
              "    <tr>\n",
              "      <th>1</th>\n",
              "      <td>2013</td>\n",
              "      <td>Bitcoin</td>\n",
              "      <td>BTC</td>\n",
              "      <td>2013-04-29</td>\n",
              "      <td>2013-12-31</td>\n",
              "      <td>20130429</td>\n",
              "      <td>20131231</td>\n",
              "      <td>1156.140015</td>\n",
              "      <td>65.526001</td>\n",
              "      <td>134.444</td>\n",
              "      <td>754.01001</td>\n",
              "      <td>566740.080972</td>\n",
              "      <td>3.066581e+09</td>\n",
              "    </tr>\n",
              "    <tr>\n",
              "      <th>2</th>\n",
              "      <td>2013</td>\n",
              "      <td>Bitcoin</td>\n",
              "      <td>BTC</td>\n",
              "      <td>2013-04-29</td>\n",
              "      <td>2013-12-31</td>\n",
              "      <td>20130429</td>\n",
              "      <td>20131231</td>\n",
              "      <td>1156.140015</td>\n",
              "      <td>65.526001</td>\n",
              "      <td>134.444</td>\n",
              "      <td>754.01001</td>\n",
              "      <td>566740.080972</td>\n",
              "      <td>3.066581e+09</td>\n",
              "    </tr>\n",
              "    <tr>\n",
              "      <th>3</th>\n",
              "      <td>2013</td>\n",
              "      <td>Bitcoin</td>\n",
              "      <td>BTC</td>\n",
              "      <td>2013-04-29</td>\n",
              "      <td>2013-12-31</td>\n",
              "      <td>20130429</td>\n",
              "      <td>20131231</td>\n",
              "      <td>1156.140015</td>\n",
              "      <td>65.526001</td>\n",
              "      <td>134.444</td>\n",
              "      <td>754.01001</td>\n",
              "      <td>566740.080972</td>\n",
              "      <td>3.066581e+09</td>\n",
              "    </tr>\n",
              "    <tr>\n",
              "      <th>4</th>\n",
              "      <td>2013</td>\n",
              "      <td>Bitcoin</td>\n",
              "      <td>BTC</td>\n",
              "      <td>2013-04-29</td>\n",
              "      <td>2013-12-31</td>\n",
              "      <td>20130429</td>\n",
              "      <td>20131231</td>\n",
              "      <td>1156.140015</td>\n",
              "      <td>65.526001</td>\n",
              "      <td>134.444</td>\n",
              "      <td>754.01001</td>\n",
              "      <td>566740.080972</td>\n",
              "      <td>3.066581e+09</td>\n",
              "    </tr>\n",
              "  </tbody>\n",
              "</table>\n",
              "</div>"
            ],
            "text/plain": [
              "   Year     Name Symbol  ...      Close      AvgVolume  AvgMarketcap\n",
              "0  2013  Bitcoin    BTC  ...  754.01001  566740.080972  3.066581e+09\n",
              "1  2013  Bitcoin    BTC  ...  754.01001  566740.080972  3.066581e+09\n",
              "2  2013  Bitcoin    BTC  ...  754.01001  566740.080972  3.066581e+09\n",
              "3  2013  Bitcoin    BTC  ...  754.01001  566740.080972  3.066581e+09\n",
              "4  2013  Bitcoin    BTC  ...  754.01001  566740.080972  3.066581e+09\n",
              "\n",
              "[5 rows x 13 columns]"
            ]
          },
          "metadata": {
            "tags": []
          },
          "execution_count": 7
        }
      ]
    },
    {
      "cell_type": "markdown",
      "metadata": {
        "id": "oWYavldjJtJg"
      },
      "source": [
        "Finally, lets add our tables to our sql database with the pandas to_sql function."
      ]
    },
    {
      "cell_type": "code",
      "metadata": {
        "id": "7gRTgC_LJ05g",
        "colab": {
          "base_uri": "https://localhost:8080/"
        },
        "outputId": "0da9c99e-6404-4530-c66d-1c949857ab94"
      },
      "source": [
        "for idx in range(0,2):\n",
        "  try:\n",
        "    newTables[idx].to_sql(f\"{tableVals[idx]}lyChange\", conn)\n",
        "  except:\n",
        "    print(f\"Table {tableVals[idx]}lyChange Already Exists\")"
      ],
      "execution_count": 8,
      "outputs": [
        {
          "output_type": "stream",
          "text": [
            "Table YearlyChange Already Exists\n",
            "Table MonthlyChange Already Exists\n"
          ],
          "name": "stdout"
        }
      ]
    },
    {
      "cell_type": "markdown",
      "metadata": {
        "id": "vP6y9DPkLGuU"
      },
      "source": [
        "Now that we have all of our tables, there is one more column we want to add. All of the numerical data provided is great, but it is not enough for a financial analysis of the crypto-currency's performances. We will need to compute the percent change for each day. The formula is as follows:\n",
        "\n",
        "> % Change = (Close - Open) / Close\n",
        "\n",
        "This value shows how much the crypto-currency rose or fell over the given time period. This will be useful for later analysis, where we will want to see what the return on investment will be for certain coins over time."
      ]
    },
    {
      "cell_type": "code",
      "metadata": {
        "colab": {
          "base_uri": "https://localhost:8080/",
          "height": 204
        },
        "id": "tbORfkdRLjru",
        "outputId": "0066fa9e-a6c6-4c21-9f76-833ddd1fc61d"
      },
      "source": [
        "cur = conn.cursor()\n",
        "\n",
        "tables = [x[0] for x in cur.execute(\"SELECT name FROM sqlite_master WHERE type='table' AND name!='Trends'\").fetchall()]\n",
        "for table in tables:\n",
        "  #Add Change column if there is not one\n",
        "  if (not ('Change',) in cur.execute(f\"SELECT name FROM PRAGMA_TABLE_INFO('{table}')\").fetchall())  :\n",
        "    cur.execute(f\"ALTER TABLE {table} ADD COLUMN Change REAL\")\n",
        "  #Set Change values if theyre Null\n",
        "  if (cur.execute(f\"SELECT SUM(Change) FROM {table}\").fetchone()[0] == None):\n",
        "    cur.execute(f\"UPDATE {table} SET Change = (Close - Open) / Close\")\n",
        "cur.close()\n",
        "\n",
        "pd.read_sql(\"SELECT * FROM Master\",conn).head()"
      ],
      "execution_count": 9,
      "outputs": [
        {
          "output_type": "execute_result",
          "data": {
            "text/html": [
              "<div>\n",
              "<style scoped>\n",
              "    .dataframe tbody tr th:only-of-type {\n",
              "        vertical-align: middle;\n",
              "    }\n",
              "\n",
              "    .dataframe tbody tr th {\n",
              "        vertical-align: top;\n",
              "    }\n",
              "\n",
              "    .dataframe thead th {\n",
              "        text-align: right;\n",
              "    }\n",
              "</style>\n",
              "<table border=\"1\" class=\"dataframe\">\n",
              "  <thead>\n",
              "    <tr style=\"text-align: right;\">\n",
              "      <th></th>\n",
              "      <th>Name</th>\n",
              "      <th>Symbol</th>\n",
              "      <th>Date</th>\n",
              "      <th>High</th>\n",
              "      <th>Low</th>\n",
              "      <th>Open</th>\n",
              "      <th>Close</th>\n",
              "      <th>Volume</th>\n",
              "      <th>Marketcap</th>\n",
              "      <th>DateKey</th>\n",
              "      <th>Change</th>\n",
              "    </tr>\n",
              "  </thead>\n",
              "  <tbody>\n",
              "    <tr>\n",
              "      <th>0</th>\n",
              "      <td>Aave</td>\n",
              "      <td>AAVE</td>\n",
              "      <td>2020-10-05 23:59:59</td>\n",
              "      <td>55.112358</td>\n",
              "      <td>49.787900</td>\n",
              "      <td>52.675035</td>\n",
              "      <td>53.219243</td>\n",
              "      <td>0.000000e+00</td>\n",
              "      <td>8.912813e+07</td>\n",
              "      <td>20201005</td>\n",
              "      <td>0.010226</td>\n",
              "    </tr>\n",
              "    <tr>\n",
              "      <th>1</th>\n",
              "      <td>Aave</td>\n",
              "      <td>AAVE</td>\n",
              "      <td>2020-10-06 23:59:59</td>\n",
              "      <td>53.402270</td>\n",
              "      <td>40.734578</td>\n",
              "      <td>53.291969</td>\n",
              "      <td>42.401599</td>\n",
              "      <td>5.830915e+05</td>\n",
              "      <td>7.101144e+07</td>\n",
              "      <td>20201006</td>\n",
              "      <td>-0.256839</td>\n",
              "    </tr>\n",
              "    <tr>\n",
              "      <th>2</th>\n",
              "      <td>Aave</td>\n",
              "      <td>AAVE</td>\n",
              "      <td>2020-10-07 23:59:59</td>\n",
              "      <td>42.408314</td>\n",
              "      <td>35.970690</td>\n",
              "      <td>42.399947</td>\n",
              "      <td>40.083976</td>\n",
              "      <td>6.828342e+05</td>\n",
              "      <td>6.713004e+07</td>\n",
              "      <td>20201007</td>\n",
              "      <td>-0.057778</td>\n",
              "    </tr>\n",
              "    <tr>\n",
              "      <th>3</th>\n",
              "      <td>Aave</td>\n",
              "      <td>AAVE</td>\n",
              "      <td>2020-10-08 23:59:59</td>\n",
              "      <td>44.902511</td>\n",
              "      <td>36.696057</td>\n",
              "      <td>39.885262</td>\n",
              "      <td>43.764463</td>\n",
              "      <td>1.658817e+06</td>\n",
              "      <td>2.202651e+08</td>\n",
              "      <td>20201008</td>\n",
              "      <td>0.088638</td>\n",
              "    </tr>\n",
              "    <tr>\n",
              "      <th>4</th>\n",
              "      <td>Aave</td>\n",
              "      <td>AAVE</td>\n",
              "      <td>2020-10-09 23:59:59</td>\n",
              "      <td>47.569533</td>\n",
              "      <td>43.291776</td>\n",
              "      <td>43.764463</td>\n",
              "      <td>46.817744</td>\n",
              "      <td>8.155377e+05</td>\n",
              "      <td>2.356322e+08</td>\n",
              "      <td>20201009</td>\n",
              "      <td>0.065216</td>\n",
              "    </tr>\n",
              "  </tbody>\n",
              "</table>\n",
              "</div>"
            ],
            "text/plain": [
              "   Name Symbol                 Date  ...     Marketcap   DateKey    Change\n",
              "0  Aave   AAVE  2020-10-05 23:59:59  ...  8.912813e+07  20201005  0.010226\n",
              "1  Aave   AAVE  2020-10-06 23:59:59  ...  7.101144e+07  20201006 -0.256839\n",
              "2  Aave   AAVE  2020-10-07 23:59:59  ...  6.713004e+07  20201007 -0.057778\n",
              "3  Aave   AAVE  2020-10-08 23:59:59  ...  2.202651e+08  20201008  0.088638\n",
              "4  Aave   AAVE  2020-10-09 23:59:59  ...  2.356322e+08  20201009  0.065216\n",
              "\n",
              "[5 rows x 11 columns]"
            ]
          },
          "metadata": {
            "tags": []
          },
          "execution_count": 9
        }
      ]
    },
    {
      "cell_type": "markdown",
      "metadata": {
        "id": "fpbCU6_Tjset"
      },
      "source": [
        "## Exploratory Data Analysis\n",
        "Now that we have our data stored correctly, lets see what information it might tell us. To bein, we will try to see what type of function might predict the behavior of a crypto currency the best. To tackle this, we wil compute linear regressions on the data for lines and polynomials. To see how well the model predicts the future, we will start by fitting it to about 70% of our data. The other 30% of data will be used to test the prediction. We will use the sci-kit learn LinearRegression and Polynomial "
      ]
    },
    {
      "cell_type": "code",
      "metadata": {
        "id": "pCqzt1PrjsuK"
      },
      "source": [
        "#Linear Regression On the whole market\n",
        "cur = conn.cursor()\n",
        "\n",
        "model = Pipeline([('poly',pf(degree=4)), ('linear',LinearRegression(fit_intercept=False))])\n",
        "cur.close()"
      ],
      "execution_count": 10,
      "outputs": []
    },
    {
      "cell_type": "code",
      "metadata": {
        "id": "iWO6zFmdlIRB"
      },
      "source": [
        "#Multiple degree regression...\n",
        "\n",
        "cur = conn.cursor()\n",
        "coins = ['Bitcoin'] #[x[0] for x in cur.execute(f\"SELECT DISTINCT Name FROM {table}\").fetchall()]\n",
        "coinRegs = {}\n",
        "for coin in coins:\n",
        "  X = [[1.,float(x[0].replace('-',''))] for x in cur.execute(f\"SELECT {xVal} FROM {table} WHERE Name = '{coin}'\").fetchall()]\n",
        "  y = [float(x[0]) for x in cur.execute(f\"SELECT Close FROM {table} WHERE Name = '{coin}'\").fetchall()]\n",
        "  model.fit(X,y)\n",
        "  coinRegs[coin] = model.fit(X,y)\n",
        "  print(f\"{coin}: {coinRegs[coin].named_steps['linear'].coef_}\")\n",
        "cur.close()\n"
      ],
      "execution_count": null,
      "outputs": []
    },
    {
      "cell_type": "code",
      "metadata": {
        "id": "UH_N4_7BPrbi"
      },
      "source": [
        "btc = coinRegs['Bitcoin']\n",
        "df = pd.read_sql(\"SELECT * FROM MonthlyChange WHERE Name = 'Bitcoin'\", conn)\n",
        "df['pred'] = df['Month'].apply(lambda c: btc.predict([[1.,float(c.replace('-',''))]])[0])\n",
        "df.head()\n",
        "\n",
        "ax = df.plot(x='Month',y='Close',kind='scatter')\n",
        "df.plot(x='Month',y='pred',ax=ax)\n",
        "print(df['Close'].tolist())"
      ],
      "execution_count": null,
      "outputs": []
    },
    {
      "cell_type": "markdown",
      "metadata": {
        "id": "l4pAtDpnbS0P"
      },
      "source": [
        "Now, lets try and plot the High data for one crypto currency versus the trends data, and see if there is a relationship. First we need to conver them both to months, and collect their data to plot."
      ]
    },
    {
      "cell_type": "code",
      "metadata": {
        "colab": {
          "base_uri": "https://localhost:8080/",
          "height": 312
        },
        "id": "JogsU_P2jbd3",
        "outputId": "ac6012df-fdae-4d54-bc94-f2a4b764bc26"
      },
      "source": [
        "import matplotlib.pyplot as plt\n",
        "\n",
        "monthly_high = pd.read_sql(\"SELECT Name, High, Month FROM MonthlyChange\",conn)\n",
        "months = []\n",
        "for month in monthly_high['Month']:\n",
        "  months.append(month.replace('-', ''))\n",
        "monthly_high['MonthKey'] = months\n",
        "model = LinearRegression().fit(monthly_high['MonthKey'][monthly_high['Name'] == 'Bitcoin'].values.reshape(-1, 1), \n",
        "                               monthly_high['High'][monthly_high['Name'] == 'Bitcoin'].values.reshape(-1, 1))\n",
        "\n",
        "trends = []\n",
        "i = 1\n",
        "temp = 0.\n",
        "for weeks in trends_df['Bitcoin']:\n",
        "  if i == 4:\n",
        "    trends.append(temp)\n",
        "    i = 1\n",
        "    temp = 0. \n",
        "  else:\n",
        "    temp += weeks\n",
        "    i = i + 1\n",
        "\n",
        "months = monthly_high['MonthKey'][monthly_high['Name'] == 'Bitcoin']\n",
        "trends_months = months[len(months) - len(trends):]\n",
        "high_data = monthly_high['High'][monthly_high['Name'] == 'Bitcoin']\n",
        "\n",
        "print(len(months))\n",
        "print(len(high_data))\n",
        "\n",
        "plt.scatter(months, high_data)\n",
        "plt.scatter(trends_months, trends, color='red')\n",
        "plt.legend(labels=['Market High', 'Google Searches'])\n",
        "plt.title('Market High and Trend Searches vs Time (Un-normalized)')\n",
        "plt.ylabel('Market Value & Number of Searches')\n",
        "plt.xticks(ticks=[])\n",
        "plt.xlabel('Years (2014 - 2021)')\n",
        "plt.show()"
      ],
      "execution_count": 13,
      "outputs": [
        {
          "output_type": "stream",
          "text": [
            "95\n",
            "95\n"
          ],
          "name": "stdout"
        },
        {
          "output_type": "display_data",
          "data": {
            "image/png": "[encoded data removed]",
            "text/plain": [
              "<Figure size 432x288 with 1 Axes>"
            ]
          },
          "metadata": {
            "tags": [],
            "needs_background": "light"
          }
        }
      ]
    },
    {
      "cell_type": "markdown",
      "metadata": {
        "id": "Tz0w9g40bgDZ"
      },
      "source": [
        "As we can see, most values in the trends data is ranging 0-100, meaning when placed next to data in the thousands, we can not see any relationship, because the trends data is so small. The solution of this is to normalize both datasets by dividing each value in each dataset by their datasets maximum value. That is what we do below."
      ]
    },
    {
      "cell_type": "code",
      "metadata": {
        "colab": {
          "base_uri": "https://localhost:8080/",
          "height": 278
        },
        "id": "euyJd7kUj_pz",
        "outputId": "7cabe978-591e-4225-a53f-3633f3ff292d"
      },
      "source": [
        "# Normalize the data and look for trends again\n",
        "\n",
        "max_high = max(high_data)\n",
        "max_trend = max(trends)\n",
        "\n",
        "norm_high_data = []\n",
        "for v in high_data:\n",
        "  norm_high_data.append(float(v) / max_high)\n",
        "\n",
        "for ind, v in enumerate(trends):\n",
        "  trends[ind] = float(v) / max_trend\n",
        "\n",
        "plt.legend(labels=['Market High', 'Google Searches'])\n",
        "plt.title('Market High and Trend Searches vs Time (Normalized)')\n",
        "plt.ylabel('Market Value & Number of Searches')\n",
        "plt.xticks(ticks=[])\n",
        "plt.xlabel('Years (2014 - 2021)')\n",
        "plt.scatter(months, norm_high_data)\n",
        "plt.scatter(trends_months, trends, color='red')\n",
        "plt.show()"
      ],
      "execution_count": 14,
      "outputs": [
        {
          "output_type": "display_data",
          "data": {
            "image/png": "[encoded data removed]",
            "text/plain": [
              "<Figure size 432x288 with 1 Axes>"
            ]
          },
          "metadata": {
            "tags": [],
            "needs_background": "light"
          }
        }
      ]
    },
    {
      "cell_type": "markdown",
      "metadata": {
        "id": "FqVlAJbmbz1g"
      },
      "source": [
        "As we can see now, there does seem to be some trend in market value and Google search trends. It appears that when the trends data spikes, a spike in market high value is imminent. This indicates that Google's trends data might just be a good indicator of stock price value, but one example is not enough to say for sure."
      ]
    },
    {
      "cell_type": "markdown",
      "metadata": {
        "id": "9OmNlNOUjs-M"
      },
      "source": [
        "## Hypothesis Testing, Supervised Learning\n",
        "With this data, we can create a Linear based sin regression based on the trend data, that predicts the high price. So we take the trends data as input, the market value as output and train a model to predict the high price given trends data. Training our model on Bitcoin, we can then test the models performance on another coin, for instance Dogecoin."
      ]
    },
    {
      "cell_type": "code",
      "metadata": {
        "id": "SMImzPfYlI_d",
        "colab": {
          "base_uri": "https://localhost:8080/",
          "height": 400
        },
        "outputId": "a25068c4-a3b7-49ae-9d3c-07a4aee0ef3d"
      },
      "source": [
        "from sklearn.model_selection import train_test_split\n",
        "from sklearn.linear_model import LinearRegression\n",
        "\n",
        "# Create our training data on Bitcoin\n",
        "train_trends_input = []\n",
        "train_high_label = []\n",
        "\n",
        "# Convert trends data of Bitcoin to an array of Monthly totals\n",
        "i = 1\n",
        "temp = 0.\n",
        "for weeks in trends_df['Bitcoin']:\n",
        "  if i == 4:\n",
        "    train_trends_input.append(temp)\n",
        "    i = 1\n",
        "    temp = 0. \n",
        "  else:\n",
        "    temp += weeks\n",
        "    i = i + 1\n",
        "\n",
        "# Grab the high data from the table, and only relevant months\n",
        "train_high_label = monthly_high['High'][monthly_high['Name'] == 'Bitcoin']\n",
        "train_high_label = train_high_label[len(train_high_label) - len(train_trends_input):]\n",
        "\n",
        "# Get the maximums of both lists for normalization\n",
        "max_high = max(train_high_label)\n",
        "max_trend = max(train_trends_input)\n",
        "\n",
        "norm_X = []\n",
        "norm_y = []\n",
        "\n",
        "# Normalize both lists\n",
        "for ind, v in enumerate(train_high_label):\n",
        "  norm_y.append(v / max_high)\n",
        "\n",
        "for ind, v in enumerate(train_trends_input):\n",
        "  norm_X.append(v / max_trend)\n",
        "\n",
        "# Create test data using Dogecoin, same process as above\n",
        "train_trends_input = []\n",
        "train_high_label = []\n",
        "\n",
        "# Convert trends data of Dogecoin to an array of Monthly totals\n",
        "i = 1\n",
        "temp = 0.\n",
        "for weeks in trends_df['Dogecoin']:\n",
        "  if i == 4:\n",
        "    train_trends_input.append(temp)\n",
        "    i = 1\n",
        "    temp = 0. \n",
        "  else:\n",
        "    temp += weeks\n",
        "    i = i + 1\n",
        "\n",
        "# Grab the high data from the table, and only relevant months\n",
        "train_high_label = monthly_high['High'][monthly_high['Name'] == 'Dogecoin']\n",
        "train_high_label = train_high_label[len(train_high_label) - len(train_trends_input):]\n",
        "\n",
        "# Get maximums for normalization\n",
        "max_high = max(train_high_label)\n",
        "max_trend = max(train_trends_input)\n",
        "\n",
        "norm_X_test = []\n",
        "norm_y_test = []\n",
        "\n",
        "# Normalize to push data to [0, 1]\n",
        "for ind, v in enumerate(train_high_label):\n",
        "  norm_y_test.append(v / max_high)\n",
        "\n",
        "for ind, v in enumerate(train_trends_input):\n",
        "  norm_X_test.append(v / max_trend)\n",
        "\n",
        "# training using Bitcoin data\n",
        "regressor = LinearRegression()\n",
        "regressor.fit([norm_X], [norm_y]) # fit the model for training data\n",
        "\n",
        "# predict the target given the trends data\n",
        "prediction_training_targets = regressor.predict([norm_X])\n",
        "\n",
        "# Compute Accuracy scores\n",
        "self_accuracy = regressor.score([norm_X], [norm_y])\n",
        "print(\"Accuracy for training data (self accuracy):\", self_accuracy)\n",
        "\n",
        "# Use model to predict on test data\n",
        "prediction_test_targets = regressor.predict([norm_X_test])\n",
        "\n",
        "# plot the predicted and actual target for test data\n",
        "plt.plot(np.squeeze(prediction_test_targets), '-*')\n",
        "plt.plot(norm_y_test, '-o' )\n",
        "plt.legend(['prediction', 'actual'])\n",
        "plt.title('Dogecoin Predicted vs Actual Market High Value')\n",
        "plt.ylabel('Market value (Normalized)')\n",
        "plt.xlabel('Months')\n",
        "plt.show()\n"
      ],
      "execution_count": 15,
      "outputs": [
        {
          "output_type": "stream",
          "text": [
            "Accuracy for training data (self accuracy): nan\n"
          ],
          "name": "stdout"
        },
        {
          "output_type": "stream",
          "text": [
            "/usr/local/lib/python3.7/dist-packages/sklearn/base.py:434: FutureWarning: The default value of multioutput (not exposed in score method) will change from 'variance_weighted' to 'uniform_average' in 0.23 to keep consistent with 'metrics.r2_score'. To specify the default value manually and avoid the warning, please either call 'metrics.r2_score' directly or make a custom scorer with 'metrics.make_scorer' (the built-in scorer 'r2' uses multioutput='uniform_average').\n",
            "  \"multioutput='uniform_average').\", FutureWarning)\n",
            "/usr/local/lib/python3.7/dist-packages/sklearn/metrics/_regression.py:582: UndefinedMetricWarning: R^2 score is not well-defined with less than two samples.\n",
            "  warnings.warn(msg, UndefinedMetricWarning)\n"
          ],
          "name": "stderr"
        },
        {
          "output_type": "display_data",
          "data": {
            "image/png": "[encoded data removed]",
            "text/plain": [
              "<Figure size 432x288 with 1 Axes>"
            ]
          },
          "metadata": {
            "tags": [],
            "needs_background": "light"
          }
        }
      ]
    },
    {
      "cell_type": "markdown",
      "metadata": {
        "id": "TXrYwVzjj2Cd"
      },
      "source": [
        "## Final Results/Findings\n",
        "What we have found from our Regression is a model that appears to predict a higher value than what is typically the market output. That being said, it does tend to increase prior to the market value actually increasing, which could be a useful model for making money. That being said, we could also take this model further, by training it on more data, and potentially decreasing the complexity, or hyperfocusing on the volatile sections, however for this case our model is good. It does seem though, that there is one occurence where our model predicts a spike that does not occur in the market data. So, there are flaws, but certainly hope."
      ]
    }
  ]
}